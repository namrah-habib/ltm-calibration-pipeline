{
 "cells": [
  {
   "cell_type": "code",
   "execution_count": null,
   "metadata": {},
   "outputs": [],
   "source": [
    "import h5py\n",
    "import numpy as np\n",
    "\n",
    "# Load RadCal MATLAB v7.3 file containing FM CAL EXT data:\n",
    "mat_file_path = './calibration-data/RadCal.mat'\n",
    "radcal_dict = {}\n",
    "\n",
    "# First, determine the structure of \"RadCal.mat\":\n",
    "with h5py.File(mat_file_path, 'r') as f:\n",
    "    radcal_data = f['RadCal'][:]         # Load all cell references\n",
    "    ref = radcal_data[0, 0]              # Get reference to the first calibration struct\n",
    "\n",
    "    if isinstance(ref, h5py.Reference):  # Check if it's a valid struct reference\n",
    "        struct_data = f[ref]             # Dereference struct\n",
    "\n",
    "        print(f\"\\nCell {1} contains struct with fields:\", list(struct_data.keys()))\n",
    "\n",
    "        # Extract datasets from each subfield\n",
    "        for field in ['Cal', 'Cold', 'Hot', 'Int']:\n",
    "            if field in struct_data:\n",
    "                print(f\"  {field} contains:\", list(struct_data[field].keys()))  # Show datasets inside\n",
    "\n",
    "\n",
    "# NOW, knowing RadCal strucutre, extract the data into an HDF5 file & Python dictionary to confirm data:\n",
    "with h5py.File(mat_file_path, 'r') as f:\n",
    "    radcal_data = f['RadCal'][:]    \n",
    "\n",
    "    # Loop over 31 cells:\n",
    "    for i in range(radcal_data.shape[0]):  \n",
    "        ref = radcal_data[i, 0] \n",
    "\n",
    "        if isinstance(ref, h5py.Reference):  \n",
    "            struct_data = f[ref]            \n",
    "\n",
    "            # Initialize storage for this cell\n",
    "            radcal_dict[f\"Cell_{i+1}\"] = {}\n",
    "\n",
    "            # Create a new HDF5 file for this cell\n",
    "            hdf5_filename = f\"./calibration-data/ltm-cal-ext-{i+1}.h5\"\n",
    "            with h5py.File(hdf5_filename, 'w') as hdf5_file:\n",
    "                print(f\"Creating file: {hdf5_filename}\")\n",
    "            \n",
    "                # Loop through the 4 main fields: Cal, Cold, Hot, Int\n",
    "                for category in ['Cal', 'Cold', 'Hot', 'Int']:\n",
    "                    if category in struct_data:\n",
    "                        radcal_dict[f\"Cell_{i+1}\"][category] = {}\n",
    "                        cat_group = hdf5_file.create_group(category)\n",
    "\n",
    "                        # Loop through datasets inside each category\n",
    "                        for dataset_name in struct_data[category].keys():\n",
    "                            item = struct_data[category][dataset_name]\n",
    "                            \n",
    "                            # Check if the item is a dataset (array)\n",
    "                            if isinstance(item, h5py.Dataset):\n",
    "                                dataset = item[:]  \n",
    "                                cat_group.create_dataset(dataset_name, data=dataset)\n",
    "                                radcal_dict[f\"Cell_{i+1}\"][category][dataset_name] = dataset\n",
    "\n",
    "                            # If it's another reference, print a warning (for debugging)\n",
    "                            elif isinstance(item, h5py.Group):\n",
    "                                print(f\"Skipping subgroup '{dataset_name}' in {category} (it's a nested group)\")\n",
    "                \n",
    "            print(f\"Extracted Cell {i+1}\")\n",
    "            print(f\"Saved Cell {i+1} to {hdf5_filename}\")\n",
    "    \n",
    "# To inspect groups of HDF5 files: \n",
    "print(\"\\n\\nPrinting Groups of ltm-cal-ext-15.h5 file to verify: \\n\")\n",
    "with h5py.File(\"./calibration-data/ltm-cal-ext-1.h5\", \"r\") as f:\n",
    "    print(\"Groups:\", list(f.keys()))  \n",
    "    print(\"Cold datasets:\", list(f[\"Cold\"].keys()))  \n"
   ]
  },
  {
   "cell_type": "code",
   "execution_count": null,
   "metadata": {},
   "outputs": [],
   "source": [
    "# Access the python dict with data: \n",
    "radcal_dict[\"Cell_10\"][\"Cold\"][\"frames\"]\n"
   ]
  },
  {
   "cell_type": "code",
   "execution_count": null,
   "metadata": {},
   "outputs": [],
   "source": [
    "Cold contains: ['BBtemp', 'BBtempNoise', 'ChannelRadiance', 'ColdBBTemp', 'DeltaFrame', 'GAIN', 'HKTemp', 'HKTempChange', 'HKTempNoise', 'HKdataEnd', 'HKdataStart', 'HotBBTemp', 'InstrTemp', 'LTMprops', 'OGSETempMean', 'OGSETempNoise', 'OGSETemps', 'RadianceFrame', 'SceneTemp', 'VCSL', 'VID_PW', 'average', 'corAverage', 'corFrames', 'corNoise', 'dacTable', 'frames', 'hasDAC', 'noise', 'numFrames', 'offsetAverage', 'stableCorAverage', 'stableCorFrames', 'stableCorNoise', 'startTime', 'target']"
   ]
  }
 ],
 "metadata": {
  "kernelspec": {
   "display_name": "Python 3.12.5 ('ltm')",
   "language": "python",
   "name": "python3"
  },
  "language_info": {
   "codemirror_mode": {
    "name": "ipython",
    "version": 3
   },
   "file_extension": ".py",
   "mimetype": "text/x-python",
   "name": "python",
   "nbconvert_exporter": "python",
   "pygments_lexer": "ipython3",
   "version": "3.12.5"
  },
  "orig_nbformat": 4,
  "vscode": {
   "interpreter": {
    "hash": "51127f6a72fa19709fafb37fa344b01018d9cc525e8b4d034ae935cf71be0c39"
   }
  }
 },
 "nbformat": 4,
 "nbformat_minor": 2
}
